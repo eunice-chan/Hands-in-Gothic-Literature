{
 "cells": [
  {
   "cell_type": "markdown",
   "metadata": {},
   "source": [
    "# Hands in Gothic Literature\n",
    "## Eunice Chan\n",
    "August 16, 2019\n",
    "\n",
    "Introduction to Computational Literary Analysis\n",
    "\n",
    "UC-Berkeley, Summer 2019\n",
    "\n",
    "Instructor: Jonathan Reeve\n",
    "\n",
    "## Introduction\n",
    "In modern society, the objectification of women is heavily associated with the disparity of power between men and women. Ever rampant in artistic works is the male gaze with which women are depicted from a masculine, heterosexual perspective as sexual objects. The gaze tend to focus on women not as a whole individual, but as a collection of parts. Gothic novels tend to be dramatic and suspenseful tales of women in distress threatened by a powerful masculine figure. Although the focus of gothic novels tend to be women, and many writers in this genre are women, the power dynamics within the novels tend to cast women in helpless roles. Because of this, I am interested in examining how power dynamics affect the language used to portray men and women. I will do this by first focusing on the segmentation of the human body, and how the treatment of men and women with regards to their physical portrayal differs. Next, I will narrow the scope and focus specifically on the difference in the treatment of hands split by gender."
   ]
  },
  {
   "cell_type": "markdown",
   "metadata": {},
   "source": [
    "## Import"
   ]
  },
  {
   "cell_type": "code",
   "execution_count": 1,
   "metadata": {},
   "outputs": [],
   "source": [
    "import requests\n",
    "import json\n",
    "from string import punctuation\n",
    "import pickle\n",
    "import nltk\n",
    "from collections import Counter\n",
    "from nltk.corpus import stopwords\n",
    "from nltk.corpus import wordnet as wn\n",
    "from matplotlib import pyplot as plt\n",
    "import numpy as np\n",
    "import pandas as pd"
   ]
  },
  {
   "cell_type": "code",
   "execution_count": 2,
   "metadata": {},
   "outputs": [],
   "source": [
    "stop_words = set(stopwords.words('english'))"
   ]
  },
  {
   "cell_type": "markdown",
   "metadata": {},
   "source": [
    "## Corpus\n",
    "I will examine the physical portrayal of men and women in gothic novels with a combination of distant and close reading."
   ]
  },
  {
   "cell_type": "code",
   "execution_count": 3,
   "metadata": {},
   "outputs": [],
   "source": [
    "# I chose to collect my corpus programmatically rather than hand-picking novels\n",
    "# because if I were to manually choose the novels to include, it would not include \n",
    "# as great of a breadth of gothic novels, and it would be a very laborious process \n",
    "# if I wanted to look at a very large corpus.\n",
    "\n",
    "# I chose to use corpus-db in particular because I want to look at a large number \n",
    "# of gothic novels and to be certain that the collection consists of only gothic \n",
    "# novels. With corpus-db, I am able to assume that the collection consists of only \n",
    "# gothic novels.\n",
    "\n",
    "# URL to all the books on Project Gutenburg that are tagged Gothic fiction.\n",
    "url = \"http://corpus-db.org/api/subject/Gothic%20fiction%20(Literary%20genre)\"\n",
    "# Get the data from the url.\n",
    "gothic = requests.get(url=url)\n",
    "# Load it into a json format.\n",
    "data = json.loads(gothic.text)"
   ]
  },
  {
   "cell_type": "markdown",
   "metadata": {},
   "source": [
    "## Preprocessing"
   ]
  },
  {
   "cell_type": "code",
   "execution_count": 4,
   "metadata": {},
   "outputs": [],
   "source": [
    "# I decided to filter my corpus such that I am only examining gothic novels \n",
    "# originally written in English so that I won't have to also consider the \n",
    "# influence that different cultures or translations would have on my findings.\n",
    "# Add all the English book ids to a list.\n",
    "ids = [book[\"id\"] for book in data if \"'en'\" in book[\"languages\"]]\n",
    "# Add all the book titles to a list.\n",
    "titles = [book[\"title\"] for book in data if \"'en'\" in book[\"languages\"] and book[\"id\"] in ids]"
   ]
  },
  {
   "cell_type": "code",
   "execution_count": 5,
   "metadata": {},
   "outputs": [
    {
     "data": {
      "text/plain": [
       "['696.0', '2706.0', '5083.0', '38460.0', '42401.0']"
      ]
     },
     "execution_count": 5,
     "metadata": {},
     "output_type": "execute_result"
    }
   ],
   "source": [
    "# Do not look at ids with empty text.\n",
    "empty_text_ids = []\n",
    "for n in ids:\n",
    "    # Get the full text of the book associated with the current id.\n",
    "    text = requests.get(\"http://corpus-db.org/api/id/\"+n+\"/fulltext\")\n",
    "    # Load the text as a string.\n",
    "    text = json.loads(text.text)\n",
    "    # If the text is empty, add the id to the list.\n",
    "    if not text:\n",
    "        empty_text_ids += [n]\n",
    "empty_text_ids"
   ]
  },
  {
   "cell_type": "code",
   "execution_count": 6,
   "metadata": {},
   "outputs": [
    {
     "data": {
      "text/plain": [
       "43"
      ]
     },
     "execution_count": 6,
     "metadata": {},
     "output_type": "execute_result"
    }
   ],
   "source": [
    "# Remove the ids of books with no text from the list of ids.\n",
    "ids = set(ids) - set(empty_text_ids)\n",
    "len(ids)"
   ]
  },
  {
   "cell_type": "code",
   "execution_count": 7,
   "metadata": {},
   "outputs": [],
   "source": [
    "author_name = [book[\"author\"] for book in data if book[\"id\"] in ids]\n",
    "author_wiki = [book[\"wikipedia\"] for book in data if book[\"id\"] in ids]\n",
    "author_yob = [book[\"authoryearofbirth\"] for book in data if book[\"id\"] in ids]\n",
    "author_yod = [book[\"authoryearofdeath\"] for book in data if book[\"id\"] in ids]"
   ]
  },
  {
   "cell_type": "code",
   "execution_count": 8,
   "metadata": {},
   "outputs": [
    {
     "data": {
      "text/plain": [
       "'http://en.wikipedia.org/wiki/Matthew_Gregory_Lewis'"
      ]
     },
     "execution_count": 8,
     "metadata": {},
     "output_type": "execute_result"
    }
   ],
   "source": [
    "json.loads(data[4][\"creator\"].replace(\"'\", \"\\\"\"))[\"author\"][\"wikipedia\"]"
   ]
  },
  {
   "cell_type": "code",
   "execution_count": 9,
   "metadata": {},
   "outputs": [],
   "source": [
    "# Create an empty list to put all the text of the books in.\n",
    "book_texts = []\n",
    "# Add all the text of each book in the Gothic fiction category to the list.\n",
    "for n in ids:\n",
    "    # Get the full text of the book associated with the current id.\n",
    "    text = requests.get(\"http://corpus-db.org/api/id/\"+n+\"/fulltext\")\n",
    "    # Load the text as a string.\n",
    "    text = json.loads(text.text)\n",
    "    # Add it to the list.\n",
    "    book_texts += [text[0][\"text\"]]"
   ]
  },
  {
   "cell_type": "code",
   "execution_count": 10,
   "metadata": {},
   "outputs": [
    {
     "data": {
      "text/plain": [
       "40"
      ]
     },
     "execution_count": 10,
     "metadata": {},
     "output_type": "execute_result"
    }
   ],
   "source": [
    "# Add all the book titles to a list.\n",
    "titles = [book[\"title\"] for book in data if \"'en'\" in book[\"languages\"] and book[\"id\"] in ids]\n",
    "# There are 40 unique books in my corpus.\n",
    "len(set(titles))"
   ]
  },
  {
   "cell_type": "code",
   "execution_count": 11,
   "metadata": {},
   "outputs": [
    {
     "data": {
      "text/plain": [
       "40"
      ]
     },
     "execution_count": 11,
     "metadata": {},
     "output_type": "execute_result"
    }
   ],
   "source": [
    "# Collect the texts in a dictionary.\n",
    "book_dict = {title:{\"Text\":text,\n",
    "                    \"Author Name\": name,\n",
    "                    \"Wikipedia\": wiki,\n",
    "                    \"Author Year of Birth\": yob,\n",
    "                    \"Author Year of Death\": yod}\n",
    "             for title, text, name, wiki, yob, yod\n",
    "             in zip(titles, book_texts, author_name, author_wiki, author_yob, author_yod)}\n",
    "len(book_dict.keys())"
   ]
  },
  {
   "cell_type": "code",
   "execution_count": 12,
   "metadata": {},
   "outputs": [],
   "source": [
    "# Redefine titles to list only the unique texts in my corpus.\n",
    "titles = list(book_dict.keys())\n",
    "# Same with the list of book_texts\n",
    "book_texts = [book_dict[title][\"Text\"] for title in titles]\n",
    "# Create a version of book_texts that is word tokenized.\n",
    "book_texts_words = [nltk.word_tokenize(book) for book in book_texts]"
   ]
  },
  {
   "cell_type": "code",
   "execution_count": 13,
   "metadata": {},
   "outputs": [],
   "source": [
    "# Create one long string of all the text in the corpus.\n",
    "all_lower_gothic = \" \".join(book_texts).lower()\n",
    "# Tokenize the corpus by words.\n",
    "all_lower_gothic_tokens = nltk.word_tokenize(all_lower_gothic)\n",
    "# Clean tokens of punctuation.\n",
    "gothic_no_punc = [w for w in all_lower_gothic_tokens if w not in punctuation]\n",
    "# Clean tokens of punctuation and stopwords.\n",
    "gothic_no_stop = [w for w in gothic_no_punc if w not in stop_words]\n",
    "# Convert it to an nltk text object.\n",
    "one_gothic_text = nltk.text.Text(all_lower_gothic_tokens)"
   ]
  },
  {
   "cell_type": "markdown",
   "metadata": {},
   "source": [
    "## Count Body Parts\n",
    "First, I will examine the counts of body parts in gothic novels to get a general idea of what parts of the body are focused upon the most."
   ]
  },
  {
   "cell_type": "code",
   "execution_count": 14,
   "metadata": {},
   "outputs": [],
   "source": [
    "# The hypernym of all words I am interested in (body parts).\n",
    "body = wn.synsets(\"body_part\")[0]"
   ]
  },
  {
   "cell_type": "code",
   "execution_count": 15,
   "metadata": {},
   "outputs": [
    {
     "name": "stdout",
     "output_type": "stream",
     "text": [
      "Frankenstein; Or, The Modern Prometheus...DONE!\n",
      "Northanger Abbey...DONE!\n",
      "Dracula...DONE!\n",
      "The Woman in White...DONE!\n",
      "The Monk: A Romance...DONE!\n",
      "Wieland; Or, The Transformation: An American Tale...DONE!\n",
      "The Fall of the House of Usher...DONE!\n",
      "The Lair of the White Worm...DONE!\n",
      "The History of Caliph Vathek...DONE!\n",
      "The Man...DONE!\n",
      "The Mysteries of Udolpho...DONE!\n",
      "The Old English Baron: a Gothic Story...DONE!\n",
      "The Vampyre; a Tale...DONE!\n",
      "The Adventures of Ferdinand Count Fathom — Volume 01...DONE!\n",
      "The Adventures of Ferdinand Count Fathom — Volume 02...DONE!\n",
      "The Adventures of Ferdinand Count Fathom — Complete...DONE!\n",
      "A Sicilian Romance...DONE!\n",
      "Anna St. Ives...DONE!\n",
      "Nightmare Abbey...DONE!\n",
      "Dracula's Guest...DONE!\n",
      "The Evil Guest...DONE!\n",
      "Barford Abbey, A Novel: In A Series Of Letters...DONE!\n",
      "The Bell in the Fog and Other Stories...DONE!\n",
      "Varney the Vampire; Or, the Feast of Blood...DONE!\n",
      "Uncle Silas: A Tale of Bartram-Haugh...DONE!\n",
      "Fantazius Mallare: A Mysterious Oath...DONE!\n",
      "Alonzo and Melissa; Or, The Unfeeling Father: An American Tale...DONE!\n",
      "Ormond; Or, The Secret Witness. Volume 1 (of 3)...DONE!\n",
      "Ormond; Or, The Secret Witness. Volume 2 (of 3)...DONE!\n",
      "Ormond; Or, The Secret Witness. Volume 3 (of 3)...DONE!\n",
      "Auriol; or, The Elixir of Life...DONE!\n",
      "The Devil's Elixir, Vol. 1 (of 2)...DONE!\n",
      "The Devil's Elixir, Vol. 2 (of 2)...DONE!\n",
      "Penelope Brandling: A Tale of the Welsh coast in the Eighteenth Century...DONE!\n",
      "Rutledge...DONE!\n",
      "Emmeline, the Orphan of the Castle...DONE!\n",
      "The Heroine...DONE!\n",
      "The Dead Secret: A Novel...DONE!\n",
      "Her Dark Inheritance...DONE!\n",
      "The Castle of Ehrenstein: Its Lords Spiritual and Temporal; Its Inhabitants Earthly and Unearthly...DONE!\n",
      "FINISHED!\n"
     ]
    }
   ],
   "source": [
    "# Add the body parts mentioned in the book to the book's entry in book_dict.\n",
    "for title, book_tokens in zip(titles, book_texts_words):\n",
    "    print(title, end = \"\")\n",
    "    # Tag the book with the parts of speech.\n",
    "    book_pos = nltk.pos_tag(book_tokens)\n",
    "    # Only take noun words.\n",
    "    nouns = [w[0] for w in book_pos if \"NN\" in w[1]]\n",
    "    body_parts =[]\n",
    "    # Look in the list of nouns.\n",
    "    for word in nouns:\n",
    "        word_sn = wn.synsets(word , \"n\")\n",
    "        if word_sn:\n",
    "            body_hyper = body.lowest_common_hypernyms(word_sn[0])\n",
    "            # If \"body_part\" is a hypernym, then add the word to the list of body parts for the book.\n",
    "            if body_hyper and body_hyper[0] == body:\n",
    "                body_parts += [word.lower()]\n",
    "    print(\"...DONE!\")\n",
    "    book_dict[title][\"Body Parts\"] = body_parts\n",
    "print(\"FINISHED!\")"
   ]
  },
  {
   "cell_type": "code",
   "execution_count": 16,
   "metadata": {},
   "outputs": [],
   "source": [
    "# Collect all body parts mentioned across all of the books in my corpus into one list.\n",
    "all_body_parts = []\n",
    "for book in book_dict:\n",
    "    all_body_parts += book_dict[book][\"Body Parts\"]"
   ]
  },
  {
   "cell_type": "code",
   "execution_count": 17,
   "metadata": {},
   "outputs": [
    {
     "data": {
      "text/plain": [
       "233"
      ]
     },
     "execution_count": 17,
     "metadata": {},
     "output_type": "execute_result"
    }
   ],
   "source": [
    "body_parts = list(set(all_body_parts))\n",
    "# 231 distinct body parts mentioned!\n",
    "len(body_parts)"
   ]
  },
  {
   "cell_type": "code",
   "execution_count": 18,
   "metadata": {},
   "outputs": [
    {
     "data": {
      "text/plain": [
       "[('hand', 3405),\n",
       " ('face', 2593),\n",
       " ('head', 2003),\n",
       " ('eye', 876),\n",
       " ('lips', 866),\n",
       " ('feet', 729),\n",
       " ('arm', 687),\n",
       " ('foot', 413),\n",
       " ('ears', 384),\n",
       " ('mouth', 345)]"
      ]
     },
     "execution_count": 18,
     "metadata": {},
     "output_type": "execute_result"
    }
   ],
   "source": [
    "# The top 3 most common body parts far exceed the other body parts!\n",
    "# The body parts only mentioned once or twice are mostly sexual organs.\n",
    "body_count = Counter(all_body_parts).most_common()\n",
    "body_count[:10]"
   ]
  },
  {
   "cell_type": "code",
   "execution_count": 19,
   "metadata": {},
   "outputs": [
    {
     "name": "stdout",
     "output_type": "stream",
     "text": [
      "HAND COUNT: 3405\n",
      "HANDS COUNT: 1728\n"
     ]
    }
   ],
   "source": [
    "print(\"HAND COUNT:\", all_lower_gothic_tokens.count(\"hand\"))\n",
    "print(\"HANDS COUNT:\", all_lower_gothic_tokens.count(\"hands\"))"
   ]
  },
  {
   "cell_type": "markdown",
   "metadata": {},
   "source": [
    "A straightforward count of body parts shows that “hand” tends to be the greatest focus. I looked up the counts of “hands” versus “hand” with the assumption the terms are mostly used to refer to the body parts. I discovered the count for singular “hand” is 3372 while “hands” is 1706. From the word counts for other body parts, plural and singular forms of body parts tend to occur with roughly the same frequency. For example, “cheeks” appear 290 times while “cheek” appears 273. \n",
    "\n",
    "\"Hand\" has various idiomatic meanings such as \"on the other hand,\" which is a frequent four-gram in the gothic novel, and various usages that isn't related to body parts, such as \"hand in marriage.\" However, from the concordance, the majority of the usage tends to be referring to body parts. The count for “hand” is almost double the count for “hands.” Assuming that this difference is great enough to offset the usage of “hand(s)” in contexts other than body parts, I hypothesize that the plural means something different in the context of gothic novels.\n",
    "\n",
    "Because “hand(s)\" has a raw count that far exceed the counts of other body parts, I will focus on hands and their function in the context of gothic novels.\n",
    "\n",
    "## Individual Versus Parts\n",
    "I hypothesize that due to the male gaze and the imbalanced power dynamic between genders in gothic novels that female characters would be objectified more than the male characters. This is complicated for me to operationalized on a large scale because characters could be referred directly by their names, and I would need to categorize each name by their gender. My workaround is to just look at pronouns because I assume that it would roughly show whether female characters or male characters are more often described in terms of their body parts."
   ]
  },
  {
   "cell_type": "code",
   "execution_count": 20,
   "metadata": {},
   "outputs": [],
   "source": [
    "# \"Him\" refers to the male object of a verb or preposition but the equivalent \"her\"\n",
    "# refers to that AND acts as a determiner. An example of this is: \"her hand.\" As a \n",
    "# result, because I would overcount \"her\" as an object of a verb, I decided not to \n",
    "# count instances of \"him\" and \"her.\"\n",
    "\n",
    "individual_male = \"he\"\n",
    "individual_female = \"she\"\n",
    "male_part = \"his\"\n",
    "female_part = \"her\""
   ]
  },
  {
   "cell_type": "markdown",
   "metadata": {},
   "source": [
    "### Count of References to Individuals by Gender"
   ]
  },
  {
   "cell_type": "code",
   "execution_count": 21,
   "metadata": {},
   "outputs": [
    {
     "data": {
      "text/plain": [
       "51652"
      ]
     },
     "execution_count": 21,
     "metadata": {},
     "output_type": "execute_result"
    }
   ],
   "source": [
    "male_individual_count = all_lower_gothic_tokens.count(individual_male)\n",
    "male_individual_count"
   ]
  },
  {
   "cell_type": "code",
   "execution_count": 22,
   "metadata": {},
   "outputs": [
    {
     "data": {
      "text/plain": [
       "30626"
      ]
     },
     "execution_count": 22,
     "metadata": {},
     "output_type": "execute_result"
    }
   ],
   "source": [
    "female_individual_count = all_lower_gothic_tokens.count(individual_female)\n",
    "female_individual_count"
   ]
  },
  {
   "cell_type": "markdown",
   "metadata": {},
   "source": [
    "### Count of References to Parts by Gender"
   ]
  },
  {
   "cell_type": "raw",
   "metadata": {},
   "source": [
    "male_body_parts = {part:0 for part in all_body_parts}\n",
    "female_body_parts = {part:0 for part in all_body_parts}"
   ]
  },
  {
   "cell_type": "raw",
   "metadata": {},
   "source": [
    "bigrams = nltk.ngrams(all_lower_gothic_tokens, 2)"
   ]
  },
  {
   "cell_type": "raw",
   "metadata": {},
   "source": [
    "for n in bigrams:\n",
    "    part = n[1]\n",
    "    if part in all_body_parts:\n",
    "        preceeding = n[0]\n",
    "        if preceeding == male_part:\n",
    "            male_body_parts[part] += 1\n",
    "        elif preceeding == female_part:\n",
    "            female_body_parts[part] += 1"
   ]
  },
  {
   "cell_type": "raw",
   "metadata": {},
   "source": [
    "# Saving dictionary externally because it takes a really long time to compute.\n",
    "pickle.dump(male_body_parts, open(\"male_body_parts.pickle\", \"wb\"))\n",
    "pickle.dump(female_body_parts, open(\"female_body_parts.pickle\", \"wb\"))"
   ]
  },
  {
   "cell_type": "code",
   "execution_count": 23,
   "metadata": {},
   "outputs": [],
   "source": [
    "male_body_parts = pickle.load(open(\"male_body_parts.pickle\", \"rb\"))\n",
    "female_body_parts = pickle.load(open(\"female_body_parts.pickle\", \"rb\"))"
   ]
  },
  {
   "cell_type": "code",
   "execution_count": 24,
   "metadata": {},
   "outputs": [
    {
     "data": {
      "text/plain": [
       "2946"
      ]
     },
     "execution_count": 24,
     "metadata": {},
     "output_type": "execute_result"
    }
   ],
   "source": [
    "female_body_count = sum(female_body_parts.values())\n",
    "female_body_count"
   ]
  },
  {
   "cell_type": "code",
   "execution_count": 25,
   "metadata": {},
   "outputs": [
    {
     "data": {
      "text/plain": [
       "4282"
      ]
     },
     "execution_count": 25,
     "metadata": {},
     "output_type": "execute_result"
    }
   ],
   "source": [
    "male_body_count = sum(male_body_parts.values())\n",
    "male_body_count"
   ]
  },
  {
   "cell_type": "code",
   "execution_count": 26,
   "metadata": {},
   "outputs": [
    {
     "data": {
      "text/html": [
       "<div>\n",
       "<style scoped>\n",
       "    .dataframe tbody tr th:only-of-type {\n",
       "        vertical-align: middle;\n",
       "    }\n",
       "\n",
       "    .dataframe tbody tr th {\n",
       "        vertical-align: top;\n",
       "    }\n",
       "\n",
       "    .dataframe thead th {\n",
       "        text-align: right;\n",
       "    }\n",
       "</style>\n",
       "<table border=\"1\" class=\"dataframe\">\n",
       "  <thead>\n",
       "    <tr style=\"text-align: right;\">\n",
       "      <th></th>\n",
       "      <th>Part</th>\n",
       "      <th>Whole</th>\n",
       "      <th>Total</th>\n",
       "      <th>Proportion Objectified</th>\n",
       "    </tr>\n",
       "  </thead>\n",
       "  <tbody>\n",
       "    <tr>\n",
       "      <th>Male</th>\n",
       "      <td>4282</td>\n",
       "      <td>51652</td>\n",
       "      <td>55934</td>\n",
       "      <td>0.076555</td>\n",
       "    </tr>\n",
       "    <tr>\n",
       "      <th>Female</th>\n",
       "      <td>2946</td>\n",
       "      <td>30626</td>\n",
       "      <td>33572</td>\n",
       "      <td>0.087752</td>\n",
       "    </tr>\n",
       "  </tbody>\n",
       "</table>\n",
       "</div>"
      ],
      "text/plain": [
       "        Part  Whole  Total  Proportion Objectified\n",
       "Male    4282  51652  55934                0.076555\n",
       "Female  2946  30626  33572                0.087752"
      ]
     },
     "execution_count": 26,
     "metadata": {},
     "output_type": "execute_result"
    }
   ],
   "source": [
    "part_to_whole_DF = pd.DataFrame(data={\"Part\": [male_body_count, female_body_count],\n",
    "                                      \"Whole\": [male_individual_count, female_individual_count]},\n",
    "                                index=[\"Male\", \"Female\"])\n",
    "part_to_whole_DF[\"Total\"] = part_to_whole_DF.Part + part_to_whole_DF.Whole\n",
    "part_to_whole_DF[\"Proportion Objectified\"] = part_to_whole_DF.Part/part_to_whole_DF.Total\n",
    "\n",
    "part_to_whole_DF.head()"
   ]
  },
  {
   "cell_type": "markdown",
   "metadata": {},
   "source": [
    "According to the table, the difference between male and female objectification is about 1%. As this is a count of the proportion of references being body parts versus the person as a whole, and because I am just looking at pronoun usage, it’s such a small difference I cannot tell if women are more objectified than men. However, the conclusion I can draw from this is that the proportion of male and female references to the body versus whole is not extremely different.\n",
    "\n",
    "## Body Parts by Gender"
   ]
  },
  {
   "cell_type": "code",
   "execution_count": 27,
   "metadata": {},
   "outputs": [],
   "source": [
    "low = 0.6\n",
    "high = 0.95\n",
    "colors = [(np.random.uniform(low=low, high=high),\n",
    "                  np.random.uniform(low=low, high=high),\n",
    "                  np.random.uniform(low=low, high=high)) for i in range(len(all_body_parts))]\n",
    "color_coded_parts = {part:color for part, color in zip(all_body_parts, colors)}"
   ]
  },
  {
   "cell_type": "code",
   "execution_count": 28,
   "metadata": {},
   "outputs": [],
   "source": [
    "def n_grams_word(text, word, n):\n",
    "    return [w for w in nltk.ngrams(text, n) if word in w]"
   ]
  },
  {
   "cell_type": "code",
   "execution_count": 29,
   "metadata": {},
   "outputs": [],
   "source": [
    "def top_n_body_parts_mentioned(n, body_parts, group_type):\n",
    "    top_n = pd.Series(body_parts).sort_values(ascending=False)[:n]\n",
    "    top_n_colors = [color_coded_parts[part] for part in top_n.index]\n",
    "    pie = top_n.plot.pie(figsize=(5, 5), colors=top_n_colors, autopct=\"%1.0f%%\")\n",
    "    pie.set_title(\"Top {} Mentioned Body Parts of {}\".format(n, group_type))\n",
    "    pie.set_ylabel('');\n",
    "    plt.show()\n",
    "    return"
   ]
  },
  {
   "cell_type": "code",
   "execution_count": 30,
   "metadata": {},
   "outputs": [],
   "source": [
    "hand = [gram for gram in nltk.ngrams(one_gothic_text, 2) if gram[1] == \"hand\"]"
   ]
  },
  {
   "cell_type": "code",
   "execution_count": 31,
   "metadata": {},
   "outputs": [
    {
     "data": {
      "text/plain": [
       "808"
      ]
     },
     "execution_count": 31,
     "metadata": {},
     "output_type": "execute_result"
    }
   ],
   "source": [
    "hand_count = Counter(n_grams_word(gothic_no_punc, \"hand\", 2))\n",
    "len(hand_count)"
   ]
  },
  {
   "cell_type": "code",
   "execution_count": 32,
   "metadata": {},
   "outputs": [
    {
     "data": {
      "text/plain": [
       "[(('his', 'hand'), 731),\n",
       " (('her', 'hand'), 518),\n",
       " (('hand', 'and'), 484),\n",
       " (('my', 'hand'), 415),\n",
       " (('the', 'hand'), 287),\n",
       " (('hand', 'to'), 210),\n",
       " (('hand', 'of'), 158),\n",
       " (('hand', 'in'), 156),\n",
       " (('at', 'hand'), 141),\n",
       " ((\"'s\", 'hand'), 136)]"
      ]
     },
     "execution_count": 32,
     "metadata": {},
     "output_type": "execute_result"
    }
   ],
   "source": [
    "hand_count.most_common(10)"
   ]
  },
  {
   "cell_type": "markdown",
   "metadata": {},
   "source": [
    "The bigrams of “hand\" reflects its usage. “My hand” is much more prevalent than “the hand.” This means the narrators focus more on his or her own hand, possibly to carry out their will, than someone else’s. This marks hand as playing an active role in the gothic novel."
   ]
  },
  {
   "cell_type": "code",
   "execution_count": 33,
   "metadata": {},
   "outputs": [
    {
     "data": {
      "image/png": "[encoded data removed]",
      "text/plain": [
       "<Figure size 360x360 with 1 Axes>"
      ]
     },
     "metadata": {},
     "output_type": "display_data"
    }
   ],
   "source": [
    "top_n_body_parts_mentioned(8, male_body_parts, \"Male Characters\")"
   ]
  },
  {
   "cell_type": "code",
   "execution_count": 34,
   "metadata": {},
   "outputs": [
    {
     "data": {
      "image/png": "[encoded data removed]",
      "text/plain": [
       "<Figure size 360x360 with 1 Axes>"
      ]
     },
     "metadata": {},
     "output_type": "display_data"
    }
   ],
   "source": [
    "top_n_body_parts_mentioned(8, female_body_parts, \"Female Characters\")"
   ]
  },
  {
   "cell_type": "markdown",
   "metadata": {},
   "source": [
    "Female characters' faces and lips are mentioned slightly more than male characters, and their head is mentioned slightly less. Other common references to female characters tend to be knees and cheeks, while gothic novels tend to focus on the arm and breast of male characters. This reflects a difference in where the attention is placed for male and female characters. For male characters, gothic novels tend to focus broadly on the upper body while for female characters, the novels tend to focus on bits and pieces. The focus is not just on her face, but on the lips and cheeks. The reader's gaze is not just directed towards the general body, but to small, specific components. By being more detailed about the locations, the reader is encouraged to think about how that area looks like on the character, and thus the emphasis is placed on the character's physical appearance rather than the character's gestures.\n",
    "\n",
    "This implies that although attention may be drawn towards the same areas on the male and female body, the kind of attention being drawn differs for each gender. When referencing the male body, it is shown to express the male's action and will. Meanwhile, when referencing the female body, attention is drawn unduly towards specific regions, drawing attention to her physical appearance in addition to whatever was the purpose of describing the female's body.\n",
    "\n",
    "## Contexts of Hands\n",
    "From the other common words used to describe male and female, the difference in treatment of characters by gender began to make itself apparent. However, this is an idea that was formed from a distant reading. To strengthen the observations made, context is needed. For the top body part, the hands, I will examine the context it is used in to explore the way the body parts are treated differently between the male and female genders."
   ]
  },
  {
   "cell_type": "code",
   "execution_count": 35,
   "metadata": {},
   "outputs": [],
   "source": [
    "def n_gram_context(n_gram, text):\n",
    "    text_sent = nltk.sent_tokenize(text)\n",
    "    sentences = []\n",
    "    for sent in text_sent:\n",
    "        i = sent.find(n_gram)\n",
    "        if i != -1:\n",
    "            if not sent[i+len(n_gram)].isalpha():\n",
    "                sentences += [sent]\n",
    "    return sentences"
   ]
  },
  {
   "cell_type": "code",
   "execution_count": 36,
   "metadata": {},
   "outputs": [],
   "source": [
    "def lst_in_sent(lst, sent):\n",
    "    sent = nltk.word_tokenize(sent)\n",
    "    for w in lst:\n",
    "        if w in sent:\n",
    "            return True\n",
    "    return False"
   ]
  },
  {
   "cell_type": "code",
   "execution_count": 37,
   "metadata": {},
   "outputs": [],
   "source": [
    "def sent_by_gender(sents, gender):\n",
    "    if gender == \"m\":\n",
    "        part = male_part\n",
    "        individual = individual_male\n",
    "    if gender == \"f\":\n",
    "        part = female_part\n",
    "        individual = individual_female\n",
    "    return [s for s in sents if lst_in_sent([part, individual], s)]"
   ]
  },
  {
   "cell_type": "code",
   "execution_count": 38,
   "metadata": {},
   "outputs": [
    {
     "name": "stdout",
     "output_type": "stream",
     "text": [
      "Displaying 25 of 3405 matches:\n",
      "s , who occupied stools on the right hand , and were leaning their backs again\n",
      ". ' at the same time he advanced his hand towards the gauze : the lady raised \n",
      "l and beautiful in the extreme ; her hand and arm were formed with the most pe\n",
      "arge grains of amber , fell from his hand , and dropped among the surrounding \n",
      "ite so delicate in me to accept your hand at first sight . ' 'accept my hand ?\n",
      "r hand at first sight . ' 'accept my hand ? as i hope to live and breathe ... \n",
      "s , she extended a lean and wrinkled hand ; which her supposed admirer kissed \n",
      "e no objection to my offering her my hand . i should be a villain could i thin\n",
      "heek ; with a graceful motion of her hand she beckoned to him to advance . he \n",
      " by the concussion . lorenzo put his hand to his sword . 'how now , segnor ? '\n",
      "a look of suspicion he drew back his hand , which the other was preparing to t\n",
      " conde ? and when i presented him my hand , did you observe the air of passion\n",
      " don christoval had kissed this same hand ; but as she drew conclusions from i\n",
      "ooked fiery and strange ; and in her hand she bore a long black rod , with whi\n",
      " . the gypsy 's song come , cross my hand ! my art surpasses all that did ever\n",
      "our future fate can show ; give your hand , and do not fear ; lady ! gentle la\n",
      "ew off her glove , and presented her hand ; the gypsy looked at it for a momen\n",
      " lovely maid , to you ; give me your hand , and let me see your future doom , \n",
      " her glove , and presented her white hand to the gypsy , who having gazed upon\n",
      "w softly her cheek reclines upon her hand ! can the rose vie with the blush of\n",
      "the lily rival the whiteness of that hand ? oh ! if such a creature existed , \n",
      " appeared with a small basket in his hand . rosario was a young novice belongi\n",
      "emanded . then pressing the abbot 's hand to his lips , he started from the gr\n",
      "ce : she perceived her letter in his hand , and uttering a shriek of terror , \n",
      "rranged , seemed only planted by the hand of nature : fountains , springing fr\n"
     ]
    }
   ],
   "source": [
    "# Look at the way \"hand\" is used.\n",
    "one_gothic_text.concordance(\"hand\")"
   ]
  },
  {
   "cell_type": "code",
   "execution_count": 39,
   "metadata": {},
   "outputs": [
    {
     "data": {
      "text/plain": [
       "[((\"'s\", 'hand'), 139),\n",
       " (('took', 'hand'), 121),\n",
       " (('held', 'hand'), 98),\n",
       " (('hand', '``'), 98),\n",
       " (('one', 'hand'), 95),\n",
       " (('hand', 'upon'), 93),\n",
       " (('right', 'hand'), 82),\n",
       " (('laid', 'hand'), 79),\n",
       " (('put', 'hand'), 71),\n",
       " (('hand', '--'), 61)]"
      ]
     },
     "execution_count": 39,
     "metadata": {},
     "output_type": "execute_result"
    }
   ],
   "source": [
    "Counter(n_grams_word(gothic_no_stop, \"hand\", 2)).most_common(10)"
   ]
  },
  {
   "cell_type": "markdown",
   "metadata": {},
   "source": [
    "Looking at the most common bigrams with the word \"hand,\" it tends to be related to someone's hand being upon something or someone's hand being taken. The former places the hand in an active role while the latter places it in a passive role."
   ]
  },
  {
   "cell_type": "code",
   "execution_count": 40,
   "metadata": {},
   "outputs": [
    {
     "data": {
      "text/plain": [
       "138"
      ]
     },
     "execution_count": 40,
     "metadata": {},
     "output_type": "execute_result"
    }
   ],
   "source": [
    "hand_sents = n_gram_context(\"'s hand\", all_lower_gothic)\n",
    "len(hand_sents)"
   ]
  },
  {
   "cell_type": "code",
   "execution_count": 41,
   "metadata": {},
   "outputs": [
    {
     "data": {
      "text/plain": [
       "66"
      ]
     },
     "execution_count": 41,
     "metadata": {},
     "output_type": "execute_result"
    }
   ],
   "source": [
    "his_hand = sent_by_gender(hand_sents, \"m\")\n",
    "len(his_hand)"
   ]
  },
  {
   "cell_type": "code",
   "execution_count": 42,
   "metadata": {},
   "outputs": [
    {
     "data": {
      "text/plain": [
       "[\"there were tears in his eyes as he wrung the squire's hand;\\nhis voice thrilled with feeling as he said:\\n\\n'your many goodnesses to my father's son, sir, will, i hope, be justified\\nby his love and loyalty.\",\n",
       " \"then,\\nfeeling her father's hand on her head she turned and leaped into his\\narms, where he held her close.\",\n",
       " \"mr. stonehouse came to him and said as he grasped harold's hand so hard\\nthat his fingers ached:\\n\\n'i cannot thank you as i would.\",\n",
       " \"as he turned away pearl, who had now been holding close to\\nher mother's hand, sprang to him holding up her arms.\",\n",
       " \"then instinctively grasping the old\\nman's hand he said:\\n\\n'you overwhelm me.\",\n",
       " 'when ferdinand\\'s hand clasped hers, she laid the other upon it, gazing\\nin his eyes with a warm and affectionate light beaming in her own, and\\nsaying with a thoughtful, if not absent air, as if the question she\\nput was as much to her own heart as to him,--\"you love me, dear\\nferdinand,--is it not so?',\n",
       " '\"he shows him favour,\\nit is true; but i have twice seen the question hang in the balance\\nwhether my lord would not strike his head off, once for taking a jewel\\noff a dead man\\'s hand, and once for betraying counsel.',\n",
       " \"ferdinand took adelaide's hand in his, and followed the priest into\\nthe chapel, by the small door, in the side of his little room, which\\nled almost direct to the altar.\",\n",
       " 'at the same moment, too, good\\nfranz creussen strode up to the table, and taking the count\\'s hand in\\nhis, wrung it hard, exclaiming, \"welcome to your own again, my good\\nand noble lord!\"',\n",
       " 'adelaide caught the lady\\'s hand, and kissed it; and gently releasing\\nherself from her husband\\'s embrace, the countess of ehrenstein\\napproached his brother, and said, in a low tone, \"you are free, my\\nlord; you had better, perhaps, retire, and for a time betake you to\\nsome place of seclusion till my lord and husband has forgotten some of\\nthe past events, or has time to think more gently of them.\"']"
      ]
     },
     "execution_count": 42,
     "metadata": {},
     "output_type": "execute_result"
    }
   ],
   "source": [
    "his_hand[30:40]"
   ]
  },
  {
   "cell_type": "markdown",
   "metadata": {},
   "source": [
    "I created a list of sentences with the bigram \"'s hand.\" I roughly split it into sentences describing a male (any sentence with a male pronoun) and sentences describe a female. From the list of sentences describing males, the function of the masculine hand in gothic novels tend to be expressing sincerity through the motions, such as grasping someone else's hands. It reflects a very active role, because the hand is reaching out of their own accord to communicate."
   ]
  },
  {
   "cell_type": "code",
   "execution_count": 43,
   "metadata": {},
   "outputs": [
    {
     "data": {
      "text/plain": [
       "50"
      ]
     },
     "execution_count": 43,
     "metadata": {},
     "output_type": "execute_result"
    }
   ],
   "source": [
    "her_hand = sent_by_gender(hand_sents, \"f\")\n",
    "len(her_hand)"
   ]
  },
  {
   "cell_type": "code",
   "execution_count": 44,
   "metadata": {},
   "outputs": [
    {
     "data": {
      "text/plain": [
       "[\"as he turned away pearl, who had now been holding close to\\nher mother's hand, sprang to him holding up her arms.\",\n",
       " \"for a long time she lay still, holding with her\\nright hand, which was not paralysed, the other's hand.\",\n",
       " 'when ferdinand\\'s hand clasped hers, she laid the other upon it, gazing\\nin his eyes with a warm and affectionate light beaming in her own, and\\nsaying with a thoughtful, if not absent air, as if the question she\\nput was as much to her own heart as to him,--\"you love me, dear\\nferdinand,--is it not so?',\n",
       " 'adelaide caught the lady\\'s hand, and kissed it; and gently releasing\\nherself from her husband\\'s embrace, the countess of ehrenstein\\napproached his brother, and said, in a low tone, \"you are free, my\\nlord; you had better, perhaps, retire, and for a time betake you to\\nsome place of seclusion till my lord and husband has forgotten some of\\nthe past events, or has time to think more gently of them.\"',\n",
       " 'one glance at his wife, as she still clung to\\nhis arm; brief thanks to his friends; and then, turning to the\\nemperor, with the lady\\'s hand in his, he bent the knee, and said, \"i\\ndo you homage, my liege lord, not only with a true but with a grateful\\nheart; and among all the causes of regret with which my long captivity\\nhas furnished me, there is none greater than that i have been\\nprevented thereby from drawing a sword, which was once good, in behalf\\nof your just rights.',\n",
       " \"adelaide replied not in words, but she took the old count's hand, and\\nkissed it tenderly, and then accompanied her husband and father-in-law\\nto the chapel, where bertha's marriage vows were speedily plighted.\",\n",
       " \"i felt miss halcombe's hand again, tightening its hold on my arm--i\\nraised my head and looked at her.\",\n",
       " \"he pressed his wife's hand under the table when she thanked him for\\ntrifling little attentions at dinner.\",\n",
       " \"she only sighed, and kissed miss\\nhalcombe's hand as it lay on the counterpane.\",\n",
       " \"mademoiselle said nothing; she lowered her eyes, and pressed the poor\\nlady's hand.\"]"
      ]
     },
     "execution_count": 44,
     "metadata": {},
     "output_type": "execute_result"
    }
   ],
   "source": [
    "her_hand[30:40]"
   ]
  },
  {
   "cell_type": "markdown",
   "metadata": {},
   "source": [
    "## Actions of Hands"
   ]
  },
  {
   "cell_type": "code",
   "execution_count": 45,
   "metadata": {},
   "outputs": [],
   "source": [
    "def n_words_around_tagged(n, text, tag):\n",
    "    size = len(text)\n",
    "    hand_contexts = []\n",
    "    # Get the n words around the word \"hand\"\n",
    "    for i, w in enumerate(text):\n",
    "        if w == \"hand\" or w == \"hands\":\n",
    "            start = i-n\n",
    "            end = i+n+1\n",
    "            if i < n:\n",
    "                start = 0\n",
    "            elif i > size - n:\n",
    "                end = size\n",
    "            hand_contexts += text[start:i] + text[i+1:end]\n",
    "    hand_actions = [w for w, t in nltk.pos_tag(hand_contexts) if tag in t]\n",
    "    return hand_actions"
   ]
  },
  {
   "cell_type": "code",
   "execution_count": 46,
   "metadata": {},
   "outputs": [
    {
     "data": {
      "text/plain": [
       "13985"
      ]
     },
     "execution_count": 46,
     "metadata": {},
     "output_type": "execute_result"
    }
   ],
   "source": [
    "hand_actions = n_words_around_tagged(5, gothic_no_stop, \"VB\")\n",
    "len(hand_actions)"
   ]
  },
  {
   "cell_type": "code",
   "execution_count": 47,
   "metadata": {},
   "outputs": [
    {
     "data": {
      "text/plain": [
       "[('said', 480),\n",
       " ('took', 321),\n",
       " ('held', 261),\n",
       " ('put', 167),\n",
       " ('came', 133),\n",
       " ('holding', 116),\n",
       " ('kissed', 114),\n",
       " ('made', 113),\n",
       " ('laid', 109),\n",
       " ('looked', 108)]"
      ]
     },
     "execution_count": 47,
     "metadata": {},
     "output_type": "execute_result"
    }
   ],
   "source": [
    "actions_5 = Counter(hand_actions).most_common(10)\n",
    "actions_5"
   ]
  },
  {
   "cell_type": "code",
   "execution_count": 48,
   "metadata": {},
   "outputs": [
    {
     "data": {
      "text/plain": [
       "[('took', 176),\n",
       " ('held', 142),\n",
       " ('put', 80),\n",
       " ('clasped', 71),\n",
       " ('laid', 62),\n",
       " ('kissed', 60),\n",
       " ('said', 60),\n",
       " ('holding', 58),\n",
       " ('placed', 56),\n",
       " ('pressed', 54)]"
      ]
     },
     "execution_count": 48,
     "metadata": {},
     "output_type": "execute_result"
    }
   ],
   "source": [
    "actions_1 = Counter(n_words_around_tagged(1, gothic_no_stop, \"VB\")).most_common(10)\n",
    "actions_1"
   ]
  },
  {
   "cell_type": "markdown",
   "metadata": {},
   "source": [
    "The most common words immediately before and after the word \"hand(s)\" (excluding stopwords) is very interesting to me, because it shows what the hands do. Many of these terms are directed. For example, if a hand is \"took,\" then someone is doing the taking and someone's hand is being taken. If a hand is kissed, someone must be doing the kissing and someone is being kissed.\n",
    "\n",
    "These terms all have a source of the action and a receiver of the action, reflecting the unequal power dynamics in gothic novels."
   ]
  },
  {
   "cell_type": "code",
   "execution_count": 49,
   "metadata": {},
   "outputs": [],
   "source": [
    "actions_only_1 = [a for a, b in actions_1]\n",
    "actions_only_5 = [a for a, b in actions_5]"
   ]
  },
  {
   "cell_type": "code",
   "execution_count": 50,
   "metadata": {},
   "outputs": [
    {
     "data": {
      "text/plain": [
       "{'clasped', 'placed', 'pressed'}"
      ]
     },
     "execution_count": 50,
     "metadata": {},
     "output_type": "execute_result"
    }
   ],
   "source": [
    "# Words ranked in the top 10 most common only in the immediate vicinity of the words \"hands.\"\n",
    "# What contexts hands are immediately related to.\n",
    "set(actions_only_1).difference(actions_only_5)"
   ]
  },
  {
   "cell_type": "code",
   "execution_count": 51,
   "metadata": {},
   "outputs": [
    {
     "data": {
      "text/plain": [
       "{'came', 'looked', 'made'}"
      ]
     },
     "execution_count": 51,
     "metadata": {},
     "output_type": "execute_result"
    }
   ],
   "source": [
    "# Words ranked in the top 10 most common only in the general vicinity of the words \"hands.\"\n",
    "# What contexts hands are generally related to.\n",
    "set(actions_only_5).difference(actions_only_1)"
   ]
  },
  {
   "cell_type": "markdown",
   "metadata": {},
   "source": [
    "The words associated hands are mostly associated with, that is, the terms that are most common in the immediate and general vicinity of the words \"hands\" are: \"said,\" \"took,\" and \"held.\" Even when looking at the words immediately before and after the hand (excluding stopwords), the top 10 words are mostly the same, showing that hands are closely associated to those terms. The association with \"took\" and \"held\" reflects the findings in the close reading that characters tend to get their hands taken or held by another character, or they tend to take or hold someone else's hands. From the close reading, I was able to determine this is an action done in part to communicate rapport and express trustworthiness.\n",
    "\n",
    "The association of hands with \"said\" shows that the actions done by the hands tend to be shortly before, shortly after, or during dialogue. Given what I've seen of the usage of hands in the corpus, the function of hands are used to emphasize and supplement a character's communication. They act as the main form of nonverbal communication."
   ]
  },
  {
   "cell_type": "code",
   "execution_count": 52,
   "metadata": {},
   "outputs": [],
   "source": [
    "just_hand_sents = n_gram_context(\"hand\", all_lower_gothic)"
   ]
  },
  {
   "cell_type": "code",
   "execution_count": 53,
   "metadata": {},
   "outputs": [],
   "source": [
    "pronouns = {\"he\", \"she\", \"him\", \"her\", \"his\", \"hers\", \"himself\", \"herself\"}"
   ]
  },
  {
   "cell_type": "code",
   "execution_count": 54,
   "metadata": {},
   "outputs": [],
   "source": [
    "stop_words_wo_pronouns = stop_words - pronouns"
   ]
  },
  {
   "cell_type": "code",
   "execution_count": 55,
   "metadata": {},
   "outputs": [],
   "source": [
    "def n_grams_by_gender(text, gender, n):\n",
    "    hand_actions = sent_by_gender(text, gender)\n",
    "    hand_no_punc = \"\".join([w for w in \" \".join(hand_actions) if w not in punctuation])\n",
    "    hand_no_stop = [w for w in nltk.word_tokenize(hand_no_punc) if w not in stop_words_wo_pronouns]\n",
    "    return hand_no_stop, n_grams_word(hand_no_stop, \"hand\", n)"
   ]
  },
  {
   "cell_type": "code",
   "execution_count": 56,
   "metadata": {},
   "outputs": [
    {
     "data": {
      "text/plain": [
       "[(('his', 'hand', 'he'), 75),\n",
       " (('his', 'hand', 'his'), 60),\n",
       " (('laid', 'his', 'hand'), 45),\n",
       " (('held', 'his', 'hand'), 44),\n",
       " (('his', 'hand', 'upon'), 39),\n",
       " (('put', 'his', 'hand'), 33),\n",
       " (('his', 'right', 'hand'), 31),\n",
       " (('hand', 'upon', 'his'), 29),\n",
       " (('her', 'hand', 'his'), 28),\n",
       " (('took', 'her', 'hand'), 25)]"
      ]
     },
     "execution_count": 56,
     "metadata": {},
     "output_type": "execute_result"
    }
   ],
   "source": [
    "male_hand_no_stop, n_gram_male_3 = n_grams_by_gender(just_hand_sents, \"m\", 3)\n",
    "Counter(n_gram_male_3).most_common(10)"
   ]
  },
  {
   "cell_type": "code",
   "execution_count": 57,
   "metadata": {},
   "outputs": [
    {
     "data": {
      "text/plain": [
       "[(('he', 'laid', 'his', 'hand'), 22),\n",
       " (('he', 'held', 'his', 'hand'), 21),\n",
       " (('laid', 'his', 'hand', 'upon'), 18),\n",
       " (('his', 'hand', 'upon', 'his'), 16),\n",
       " (('he', 'took', 'her', 'hand'), 15),\n",
       " (('he', 'put', 'his', 'hand'), 13),\n",
       " (('put', 'his', 'hand', 'his'), 9),\n",
       " (('her', 'hand', 'upon', 'his'), 9),\n",
       " (('hand', 'upon', 'his', 'arm'), 9),\n",
       " (('he', 'waved', 'his', 'hand'), 8)]"
      ]
     },
     "execution_count": 57,
     "metadata": {},
     "output_type": "execute_result"
    }
   ],
   "source": [
    "_, n_gram_male_4 = n_grams_by_gender(just_hand_sents, \"m\", 4)\n",
    "Counter(n_gram_male_4).most_common(10)"
   ]
  },
  {
   "cell_type": "markdown",
   "metadata": {},
   "source": [
    "Looking at the most common 3-grams and 4-grams for sentences involving a male character, I am able to see which gender is commonly at the source and recieving end of the actions. Common relationships are: \"(he) laid his hand,\" \"(he) held his hand,\" \"(he) put his hand,\" \"(he) took her hand,\" \"(he) pressed (her) hand upon his lips,\" \"(he put his/her?) hand upon his arm.\"\n",
    "\n",
    "Although the reason why the 4-gram \"he laid his hand\" has the count of 23 while the 3-gram \"laid is hand\" has the count of 46 could be because there is the usage of a different gender (\"she laid his hand\"), if that was the case, we would likely see \"she laid his hand,\" for example, in the common 4-grams, which isn't the case. More likely, the remainder of the \"X laid his hand\" have names instead of pronouns. The names are most likely masculine, given the fact \"he laid his hand\" is far more common than \"she laid his hand.\"\n",
    "\n",
    "I apply this reasoning to the rest of the common phrases. Interpreted this way, the list shows the unequal power dynamics. It is commonly a male figure initiating actions with his hands, and a female figure receiving the action (having her hands taken, and having her hands pressed against his lips). In the context of the novels, these tend to be common actions between members of high society, as the kissing of the hand is a common form of greeting. This list thus highlights the power disparity between men and women built into and normalized by the social norms, even among those of equal class. The women tend to be placed in passive, receiving roles while the men exercise their will."
   ]
  },
  {
   "cell_type": "code",
   "execution_count": 58,
   "metadata": {},
   "outputs": [
    {
     "data": {
      "text/plain": [
       "[(('took', 'her', 'hand'), 45),\n",
       " (('her', 'hand', 'she'), 41),\n",
       " (('held', 'her', 'hand'), 31),\n",
       " (('her', 'hand', 'his'), 30),\n",
       " (('her', 'hand', 'her'), 28),\n",
       " (('taking', 'her', 'hand'), 24),\n",
       " (('her', 'hand', 'upon'), 24),\n",
       " (('laid', 'her', 'hand'), 24),\n",
       " (('her', 'hand', 'he'), 17),\n",
       " (('put', 'her', 'hand'), 14)]"
      ]
     },
     "execution_count": 58,
     "metadata": {},
     "output_type": "execute_result"
    }
   ],
   "source": [
    "female_hand_no_stop, n_gram_female_3 = n_grams_by_gender(just_hand_sents, \"f\", 3)\n",
    "Counter(n_gram_female_3).most_common(10)"
   ]
  },
  {
   "cell_type": "code",
   "execution_count": 59,
   "metadata": {},
   "outputs": [
    {
     "data": {
      "text/plain": [
       "[(('he', 'took', 'her', 'hand'), 15),\n",
       " (('she', 'held', 'her', 'hand'), 14),\n",
       " (('she', 'put', 'her', 'hand'), 11),\n",
       " (('laid', 'her', 'hand', 'upon'), 10),\n",
       " (('her', 'hand', 'upon', 'his'), 9),\n",
       " (('pressed', 'her', 'hand', 'his'), 7),\n",
       " (('hand', 'upon', 'his', 'arm'), 7),\n",
       " (('she', 'laid', 'her', 'hand'), 7),\n",
       " (('her', 'hand', 'his', 'lips'), 6),\n",
       " (('she', 'took', 'his', 'hand'), 6)]"
      ]
     },
     "execution_count": 59,
     "metadata": {},
     "output_type": "execute_result"
    }
   ],
   "source": [
    "_, n_gram_female_4 = n_grams_by_gender(just_hand_sents, \"f\", 4)\n",
    "Counter(n_gram_female_4).most_common(10)"
   ]
  },
  {
   "cell_type": "markdown",
   "metadata": {},
   "source": [
    "A commonality between these female sentences and the male sentences from before is that the women also \"held her hand,\" \"put her hand,\" \"laid her hand upon,\" and \"she took his hand.\" Referencing the same custom as before where men kiss the hand of the women, the phrase \"(he) pressed (her) hand upon his lips\" is mirrored by the 4-gram \"(her) hand pressed his lips.\"\n",
    "\n",
    "Interestingly, the n-grams show that women are not entirely helpless and is able to exercise her will much like the men: they also hold, put, and lay their hands, as well as taking other people's hands. To complicate this statement, however, the order of these actions differ between the two genders. For women, taking someone else's hand is much less common: \"he took her hand\" comes in at 15 while \"she took his hand\" only appears 6 times in the corpus--less than half the times when the gender is switched. This reflects the power dynamics in male-female relationships similarly to the way the kissing does. One person is in the role of power and subjugation: the one who takes the hand, and one person is in the role of the subjugated: the one whose hand is taken."
   ]
  },
  {
   "cell_type": "code",
   "execution_count": 60,
   "metadata": {},
   "outputs": [
    {
     "data": {
      "text/plain": [
       "[('right', 12), ('strong', 11), ('pressed', 7), ('young', 7), ('close', 6)]"
      ]
     },
     "execution_count": 60,
     "metadata": {},
     "output_type": "execute_result"
    }
   ],
   "source": [
    "Counter(n_words_around_tagged(1, male_hand_no_stop, \"JJ\")).most_common(5)"
   ]
  },
  {
   "cell_type": "code",
   "execution_count": 61,
   "metadata": {},
   "outputs": [
    {
     "data": {
      "text/plain": [
       "[('right', 9), ('little', 8), ('pressed', 6), ('cold', 6), ('old', 5)]"
      ]
     },
     "execution_count": 61,
     "metadata": {},
     "output_type": "execute_result"
    }
   ],
   "source": [
    "Counter(n_words_around_tagged(1, female_hand_no_stop, \"JJ\")).most_common(5)"
   ]
  },
  {
   "cell_type": "markdown",
   "metadata": {},
   "source": [
    "The way male and female hands are described differs. Most strikingly, masculine hands are described as \"strong\" and \"young,\" implying power and a youthful vigor. This contrasts with the way feminine hands are described, \"little\" and \"cold,\" which evokes a sense of weak helplessness and mortal fraility. Tying back to the pie charts from before where I had noticed feminine characters are described with more specific body parts, the observation that more emphasis is placed on the physical appearances of the feminine characters is supported by the adjectives surrounding the hands of the characers. Masculine characters tend to have more general adjectives which shows that the description of their hands is just a means to describe their personality while feminine characters have more concrete, physical adjectives which shows that the description of their hands is to make their appearances more concrete in the reader's mind which supports the hypothesis that female characters in gothic novels have excessive attention placed on their appearances--especially in comparison to the male characters.\n",
    "\n",
    "## Conclusion\n",
    "I examined the way the body is portrayed for each gender. I began by examining the proportion of body segmentation, which was not entirely clear because of the difficulties in computationalizing. I then moved on to examining the specific body segmentation by gender and discovered the differences in the segmentations of men and women: the novels tend to focus on very specific body parts when discussing the feminine body. Meanwhile, when discussing the masculine body, the body parts referenced tend to be more general and broad.\n",
    "\n",
    "Next, I decided to look more closely at this difference in the context of hands, as the hands were the most referenced body part. Through a combination of close reading of sentences that include hands, and distant reading by looking at the prevalent n-grams, I saw that even something as small as the hand is subjugated to social norms that reflect the unequal power dynamic between genders. By looking at how the hands were described, I was able to tie the hands back to my broader observation that female characters tend to be described by their physical appearances for the sake of emphasizing their physical appearances, while male characters tend to have their physical form described to reflect their will. This shows that although body parts are mentioned almost in equal proportions for male and female characters, the emphasis on the physical appearances of female characters objectifies them, making them objects for the reader's imaginative viewing pleasure rather than characters. This general approach to female characters, as well as the passitivity of the feminine hand reflects the unequal power dynamics between genders in the corpus."
   ]
  }
 ],
 "metadata": {
  "kernelspec": {
   "display_name": "Python 3",
   "language": "python",
   "name": "python3"
  },
  "language_info": {
   "codemirror_mode": {
    "name": "ipython",
    "version": 3
   },
   "file_extension": ".py",
   "mimetype": "text/x-python",
   "name": "python",
   "nbconvert_exporter": "python",
   "pygments_lexer": "ipython3",
   "version": "3.7.3"
  }
 },
 "nbformat": 4,
 "nbformat_minor": 2
}
